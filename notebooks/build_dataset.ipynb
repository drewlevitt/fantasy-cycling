{
 "cells": [
  {
   "cell_type": "code",
   "execution_count": 1,
   "metadata": {},
   "outputs": [],
   "source": [
    "import pandas as pd\n",
    "import glob\n",
    "import os"
   ]
  },
  {
   "cell_type": "code",
   "execution_count": 2,
   "metadata": {},
   "outputs": [],
   "source": [
    "data_dir = '../data'\n",
    "genders = ['Men', 'Women']\n",
    "csv_lists = {}\n",
    "# Generate a list of pathnames to relevant CSVs\n",
    "for gender in genders:\n",
    "    csv_lists[gender] = glob.glob(os.path.join(data_dir, 'FSA_DS_{}*'.format(gender)))"
   ]
  },
  {
   "cell_type": "code",
   "execution_count": 3,
   "metadata": {},
   "outputs": [],
   "source": [
    "# Instantiate a dict of empty DataFrames to collect all our data\n",
    "dfs = {gender: pd.DataFrame() for gender in genders}\n",
    "\n",
    "for gender in genders:\n",
    "    # Give the master DataFrame index a meaningful name\n",
    "    dfs[gender].index.name = 'Rider ID'\n",
    "    \n",
    "    for csv_path in csv_lists[gender]:\n",
    "        # Read in CSV\n",
    "        df = pd.read_csv(csv_path)\n",
    "        # Calculate two columns based on filename\n",
    "        df['Gender'] = gender\n",
    "        year = int(csv_path[-8:-4])\n",
    "        df['Year'] = year\n",
    "        # Clean up identified issues in Rider Name column\n",
    "        df['Rider Name'] = df['Rider Name'].str.strip()\n",
    "        df['Rider Name'] = df['Rider Name'].str.replace('  ', ' ')\n",
    "        df['Rider Name'] = df['Rider Name'].str.replace('\\\\', '')\n",
    "\n",
    "        # Identify correct age table (birth year and UCI category aren't included in the downloadable CSVs)\n",
    "        age_path = glob.glob(os.path.join(data_dir, 'age_{}_{}*'.format(gender, year)))[0]\n",
    "        age = pd.read_csv(age_path, sep = '\\t', encoding = 'utf-8')\n",
    "        # Remove trailing spaces from data and column names\n",
    "        for col in age.columns:\n",
    "            if age[col].dtype == 'object':\n",
    "                age[col] = age[col].str.strip()\n",
    "        age.columns = age.columns.str.strip()\n",
    "\n",
    "        if gender == 'Men':\n",
    "            # Harmonize this table's column names with the CSV's\n",
    "            age = age.rename(columns = {'Rider': 'Rider Name'})\n",
    "            # Join birth year and UCI category onto main table\n",
    "            df = df.merge(age[['Country', 'UCI Team', 'Rider Name', 'UCI Cat', 'Born']], \n",
    "                          how = 'left', on = ['Country', 'UCI Team', 'Rider Name'])\n",
    "            # Append the current year to columns that will change from year to year\n",
    "            old_cols = ['UCI Team', 'Price', 'UCI Cat']\n",
    "        else: # The women's table has fewer and differently named columns\n",
    "            age = age.rename(columns = {'Rider': 'Rider Name', 'Trade Team': 'UCI Team'})\n",
    "            df = df.merge(age[['Country', 'UCI Team', 'Rider Name', 'Born']], \n",
    "                          how = 'left', on = ['Country', 'UCI Team', 'Rider Name'])\n",
    "            old_cols = ['UCI Team', 'Price']\n",
    "\n",
    "        new_cols = {col: '{} {}'.format(col, year) for col in old_cols}\n",
    "        df = df.rename(columns = new_cols)\n",
    "        # Calculate the riders' age in this year\n",
    "        df['Age {}'.format(year)] = df['Year'] - df['Born']\n",
    "\n",
    "        # Drop unnecessary columns\n",
    "        df = df.drop(columns = ['Rank', 'Score {}'.format(year - 1), 'Year'])\n",
    "        # Set a useful index\n",
    "        df = df.set_index('Rider ID')\n",
    "        \n",
    "        # Prepare to join new columns to old rows...\n",
    "        to_join = df.loc[df.index.isin(dfs[gender].index), ~df.columns.isin(dfs[gender].columns)]\n",
    "        # ...and to append new rows to old columns...\n",
    "        to_append = df.loc[~df.index.isin(dfs[gender].index), :]\n",
    "        # ...then do both!\n",
    "        dfs[gender] = dfs[gender].join(to_join).append(to_append)\n",
    "        \n",
    "    # Export the processed data to CSV\n",
    "    dfs[gender].to_csv(os.path.join(data_dir, gender + '.csv'))"
   ]
  }
 ],
 "metadata": {
  "kernelspec": {
   "display_name": "Python 3",
   "language": "python",
   "name": "python3"
  },
  "language_info": {
   "codemirror_mode": {
    "name": "ipython",
    "version": 3
   },
   "file_extension": ".py",
   "mimetype": "text/x-python",
   "name": "python",
   "nbconvert_exporter": "python",
   "pygments_lexer": "ipython3",
   "version": "3.7.6"
  }
 },
 "nbformat": 4,
 "nbformat_minor": 4
}
